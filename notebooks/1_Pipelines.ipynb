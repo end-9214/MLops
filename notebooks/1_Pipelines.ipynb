{
 "cells": [
  {
   "cell_type": "code",
   "execution_count": 3,
   "metadata": {},
   "outputs": [
    {
     "name": "stdout",
     "output_type": "stream",
     "text": [
      "Collecting zenml[server]\n",
      "  Using cached zenml-0.55.2-py3-none-any.whl.metadata (17 kB)\n",
      "Requirement already satisfied: Jinja2 in c:\\users\\dell-7373\\appdata\\roaming\\python\\python311\\site-packages (from zenml[server]) (3.1.2)\n",
      "Collecting alembic<1.9.0,>=1.8.1 (from zenml[server])\n",
      "  Using cached alembic-1.8.1-py3-none-any.whl (209 kB)\n",
      "Collecting azure-mgmt-resource>=21.0.0 (from zenml[server])\n",
      "  Using cached azure_mgmt_resource-23.0.1-py3-none-any.whl.metadata (35 kB)\n",
      "Collecting bcrypt==4.0.1 (from zenml[server])\n",
      "  Using cached bcrypt-4.0.1-cp36-abi3-win_amd64.whl (152 kB)\n",
      "Collecting click<8.1.4,>=8.0.1 (from zenml[server])\n",
      "  Using cached click-8.1.3-py3-none-any.whl (96 kB)\n",
      "Collecting click-params<0.4.0,>=0.3.0 (from zenml[server])\n",
      "  Using cached click_params-0.3.0-py3-none-any.whl (12 kB)\n",
      "Collecting cloudpickle<3,>=2.0.0 (from zenml[server])\n",
      "  Using cached cloudpickle-2.2.1-py3-none-any.whl.metadata (6.9 kB)\n",
      "Collecting distro<2.0.0,>=1.6.0 (from zenml[server])\n",
      "  Using cached distro-1.9.0-py3-none-any.whl.metadata (6.8 kB)\n",
      "Collecting docker<6.2.0,>=6.1.0 (from zenml[server])\n",
      "  Using cached docker-6.1.3-py3-none-any.whl.metadata (3.5 kB)\n",
      "Collecting fastapi<0.100,>=0.75 (from zenml[server])\n",
      "  Using cached fastapi-0.99.1-py3-none-any.whl.metadata (23 kB)\n",
      "Collecting fastapi-utils<0.3.0,>=0.2.1 (from zenml[server])\n",
      "  Using cached fastapi_utils-0.2.1-py3-none-any.whl (16 kB)\n",
      "Collecting gitpython<4.0.0,>=3.1.18 (from zenml[server])\n",
      "  Using cached GitPython-3.1.42-py3-none-any.whl.metadata (12 kB)\n",
      "Collecting httplib2<0.20,>=0.19.1 (from zenml[server])\n",
      "  Using cached httplib2-0.19.1-py3-none-any.whl (95 kB)\n",
      "Collecting ipinfo>=4.4.3 (from zenml[server])\n",
      "  Using cached ipinfo-5.0.1-py3-none-any.whl.metadata (648 bytes)\n",
      "Requirement already satisfied: orjson<3.9.0,>=3.8.3 in c:\\python311\\lib\\site-packages (from zenml[server]) (3.8.14)\n",
      "Requirement already satisfied: pandas>=1.1.5 in c:\\python311\\lib\\site-packages (from zenml[server]) (2.1.4)\n",
      "Requirement already satisfied: passlib<1.8.0,>=1.7.4 in c:\\python311\\lib\\site-packages (from passlib[bcrypt]<1.8.0,>=1.7.4->zenml[server]) (1.7.4)\n",
      "Requirement already satisfied: psutil>=5.0.0 in c:\\users\\dell-7373\\appdata\\roaming\\python\\python311\\site-packages (from zenml[server]) (5.9.6)\n",
      "Requirement already satisfied: pydantic<1.11,>=1.9.0 in c:\\python311\\lib\\site-packages (from zenml[server]) (1.10.14)\n",
      "Requirement already satisfied: pyjwt==2.7.* in c:\\python311\\lib\\site-packages (from pyjwt[crypto]==2.7.*; extra == \"server\"->zenml[server]) (2.7.0)\n",
      "Requirement already satisfied: pymysql<1.1.0,>=1.0.2 in c:\\python311\\lib\\site-packages (from zenml[server]) (1.0.3)\n",
      "Requirement already satisfied: pyparsing<3,>=2.4.0 in c:\\python311\\lib\\site-packages (from zenml[server]) (2.4.2)\n",
      "Requirement already satisfied: python-dateutil<3.0.0,>=2.8.1 in c:\\users\\dell-7373\\appdata\\roaming\\python\\python311\\site-packages (from zenml[server]) (2.8.2)\n",
      "Requirement already satisfied: python-multipart<0.1.0,>=0.0.5 in c:\\python311\\lib\\site-packages (from zenml[server]) (0.0.9)\n",
      "Requirement already satisfied: pyyaml>=6.0.1 in c:\\python311\\lib\\site-packages (from zenml[server]) (6.0.1)\n",
      "Collecting rich>=12.0.0 (from rich[jupyter]>=12.0.0->zenml[server])\n",
      "  Using cached rich-13.7.0-py3-none-any.whl.metadata (18 kB)\n",
      "Collecting sqlalchemy_utils==0.38.3 (from zenml[server])\n",
      "  Using cached SQLAlchemy_Utils-0.38.3-py3-none-any.whl (100 kB)\n",
      "Collecting sqlmodel==0.0.8 (from zenml[server])\n",
      "  Using cached sqlmodel-0.0.8-py3-none-any.whl (21 kB)\n",
      "Collecting uvicorn>=0.17.5 (from uvicorn[standard]>=0.17.5; extra == \"server\"->zenml[server])\n",
      "  Using cached uvicorn-0.27.1-py3-none-any.whl.metadata (6.3 kB)\n",
      "Requirement already satisfied: cryptography>=3.4.0 in c:\\python311\\lib\\site-packages (from pyjwt[crypto]==2.7.*; extra == \"server\"->zenml[server]) (42.0.3)\n",
      "Requirement already satisfied: SQLAlchemy>=1.3 in c:\\python311\\lib\\site-packages (from sqlalchemy_utils==0.38.3->zenml[server]) (1.4.41)\n",
      "Requirement already satisfied: sqlalchemy2-stubs in c:\\python311\\lib\\site-packages (from sqlmodel==0.0.8->zenml[server]) (0.0.2a38)\n",
      "Requirement already satisfied: Mako in c:\\python311\\lib\\site-packages (from alembic<1.9.0,>=1.8.1->zenml[server]) (1.3.2)\n",
      "Collecting isodate<1.0.0,>=0.6.1 (from azure-mgmt-resource>=21.0.0->zenml[server])\n",
      "  Using cached isodate-0.6.1-py2.py3-none-any.whl (41 kB)\n",
      "Requirement already satisfied: azure-common~=1.1 in c:\\python311\\lib\\site-packages (from azure-mgmt-resource>=21.0.0->zenml[server]) (1.1.28)\n",
      "Collecting azure-mgmt-core<2.0.0,>=1.3.2 (from azure-mgmt-resource>=21.0.0->zenml[server])\n",
      "  Using cached azure_mgmt_core-1.4.0-py3-none-any.whl.metadata (4.1 kB)\n",
      "Requirement already satisfied: colorama in c:\\users\\dell-7373\\appdata\\roaming\\python\\python311\\site-packages (from click<8.1.4,>=8.0.1->zenml[server]) (0.4.6)\n",
      "Requirement already satisfied: validators<0.19,>=0.18 in c:\\python311\\lib\\site-packages (from click-params<0.4.0,>=0.3.0->zenml[server]) (0.18.2)\n",
      "Requirement already satisfied: packaging>=14.0 in c:\\python311\\lib\\site-packages (from docker<6.2.0,>=6.1.0->zenml[server]) (23.1)\n",
      "Requirement already satisfied: requests>=2.26.0 in c:\\users\\dell-7373\\appdata\\roaming\\python\\python311\\site-packages (from docker<6.2.0,>=6.1.0->zenml[server]) (2.31.0)\n",
      "Requirement already satisfied: urllib3>=1.26.0 in c:\\python311\\lib\\site-packages (from docker<6.2.0,>=6.1.0->zenml[server]) (2.0.2)\n",
      "Requirement already satisfied: websocket-client>=0.32.0 in c:\\users\\dell-7373\\appdata\\roaming\\python\\python311\\site-packages (from docker<6.2.0,>=6.1.0->zenml[server]) (1.6.4)\n",
      "Requirement already satisfied: pywin32>=304 in c:\\python311\\lib\\site-packages (from docker<6.2.0,>=6.1.0->zenml[server]) (306)\n",
      "Collecting starlette<0.28.0,>=0.27.0 (from fastapi<0.100,>=0.75->zenml[server])\n",
      "  Using cached starlette-0.27.0-py3-none-any.whl.metadata (5.8 kB)\n",
      "Requirement already satisfied: typing-extensions>=4.5.0 in c:\\python311\\lib\\site-packages (from fastapi<0.100,>=0.75->zenml[server]) (4.9.0)\n",
      "Collecting gitdb<5,>=4.0.1 (from gitpython<4.0.0,>=3.1.18->zenml[server])\n",
      "  Using cached gitdb-4.0.11-py3-none-any.whl.metadata (1.2 kB)\n",
      "Requirement already satisfied: cachetools in c:\\users\\dell-7373\\appdata\\roaming\\python\\python311\\site-packages (from ipinfo>=4.4.3->zenml[server]) (5.3.2)\n",
      "Requirement already satisfied: aiohttp<=4 in c:\\python311\\lib\\site-packages (from ipinfo>=4.4.3->zenml[server]) (3.8.5)\n",
      "Requirement already satisfied: numpy<2,>=1.23.2 in c:\\python311\\lib\\site-packages (from pandas>=1.1.5->zenml[server]) (1.24.3)\n",
      "Requirement already satisfied: pytz>=2020.1 in c:\\python311\\lib\\site-packages (from pandas>=1.1.5->zenml[server]) (2023.3.post1)\n",
      "Requirement already satisfied: tzdata>=2022.1 in c:\\python311\\lib\\site-packages (from pandas>=1.1.5->zenml[server]) (2023.4)\n",
      "Requirement already satisfied: six>=1.5 in c:\\users\\dell-7373\\appdata\\roaming\\python\\python311\\site-packages (from python-dateutil<3.0.0,>=2.8.1->zenml[server]) (1.16.0)\n",
      "Requirement already satisfied: markdown-it-py>=2.2.0 in c:\\python311\\lib\\site-packages (from rich>=12.0.0->rich[jupyter]>=12.0.0->zenml[server]) (3.0.0)\n",
      "Requirement already satisfied: pygments<3.0.0,>=2.13.0 in c:\\users\\dell-7373\\appdata\\roaming\\python\\python311\\site-packages (from rich>=12.0.0->rich[jupyter]>=12.0.0->zenml[server]) (2.16.1)\n",
      "Collecting ipywidgets<9,>=7.5.1 (from rich[jupyter]>=12.0.0->zenml[server])\n",
      "  Using cached ipywidgets-8.1.2-py3-none-any.whl.metadata (2.4 kB)\n",
      "Collecting h11>=0.8 (from uvicorn>=0.17.5->uvicorn[standard]>=0.17.5; extra == \"server\"->zenml[server])\n",
      "  Using cached h11-0.14.0-py3-none-any.whl (58 kB)\n",
      "Collecting httptools>=0.5.0 (from uvicorn[standard]>=0.17.5; extra == \"server\"->zenml[server])\n",
      "  Using cached httptools-0.6.1-cp311-cp311-win_amd64.whl.metadata (3.7 kB)\n",
      "Requirement already satisfied: python-dotenv>=0.13 in c:\\python311\\lib\\site-packages (from uvicorn[standard]>=0.17.5; extra == \"server\"->zenml[server]) (1.0.1)\n",
      "Collecting watchfiles>=0.13 (from uvicorn[standard]>=0.17.5; extra == \"server\"->zenml[server])\n",
      "  Using cached watchfiles-0.21.0-cp311-none-win_amd64.whl.metadata (5.0 kB)\n",
      "Requirement already satisfied: websockets>=10.4 in c:\\python311\\lib\\site-packages (from uvicorn[standard]>=0.17.5; extra == \"server\"->zenml[server]) (12.0)\n",
      "Requirement already satisfied: MarkupSafe>=2.0 in c:\\users\\dell-7373\\appdata\\roaming\\python\\python311\\site-packages (from Jinja2->zenml[server]) (2.1.3)\n",
      "Requirement already satisfied: attrs>=17.3.0 in c:\\python311\\lib\\site-packages (from aiohttp<=4->ipinfo>=4.4.3->zenml[server]) (23.1.0)\n",
      "Requirement already satisfied: charset-normalizer<4.0,>=2.0 in c:\\python311\\lib\\site-packages (from aiohttp<=4->ipinfo>=4.4.3->zenml[server]) (3.1.0)\n",
      "Requirement already satisfied: multidict<7.0,>=4.5 in c:\\python311\\lib\\site-packages (from aiohttp<=4->ipinfo>=4.4.3->zenml[server]) (6.0.4)\n",
      "Requirement already satisfied: async-timeout<5.0,>=4.0.0a3 in c:\\python311\\lib\\site-packages (from aiohttp<=4->ipinfo>=4.4.3->zenml[server]) (4.0.2)\n",
      "Requirement already satisfied: yarl<2.0,>=1.0 in c:\\python311\\lib\\site-packages (from aiohttp<=4->ipinfo>=4.4.3->zenml[server]) (1.9.2)\n",
      "Requirement already satisfied: frozenlist>=1.1.1 in c:\\python311\\lib\\site-packages (from aiohttp<=4->ipinfo>=4.4.3->zenml[server]) (1.3.3)\n",
      "Requirement already satisfied: aiosignal>=1.1.2 in c:\\python311\\lib\\site-packages (from aiohttp<=4->ipinfo>=4.4.3->zenml[server]) (1.3.1)\n",
      "Collecting azure-core<2.0.0,>=1.26.2 (from azure-mgmt-core<2.0.0,>=1.3.2->azure-mgmt-resource>=21.0.0->zenml[server])\n",
      "  Using cached azure_core-1.30.0-py3-none-any.whl.metadata (37 kB)\n",
      "Requirement already satisfied: cffi>=1.12 in c:\\users\\dell-7373\\appdata\\roaming\\python\\python311\\site-packages (from cryptography>=3.4.0->pyjwt[crypto]==2.7.*; extra == \"server\"->zenml[server]) (1.16.0)\n",
      "Requirement already satisfied: smmap<6,>=3.0.1 in c:\\python311\\lib\\site-packages (from gitdb<5,>=4.0.1->gitpython<4.0.0,>=3.1.18->zenml[server]) (5.0.1)\n",
      "Requirement already satisfied: comm>=0.1.3 in c:\\users\\dell-7373\\appdata\\roaming\\python\\python311\\site-packages (from ipywidgets<9,>=7.5.1->rich[jupyter]>=12.0.0->zenml[server]) (0.1.4)\n",
      "Requirement already satisfied: ipython>=6.1.0 in c:\\users\\dell-7373\\appdata\\roaming\\python\\python311\\site-packages (from ipywidgets<9,>=7.5.1->rich[jupyter]>=12.0.0->zenml[server]) (8.16.1)\n",
      "Requirement already satisfied: traitlets>=4.3.1 in c:\\users\\dell-7373\\appdata\\roaming\\python\\python311\\site-packages (from ipywidgets<9,>=7.5.1->rich[jupyter]>=12.0.0->zenml[server]) (5.11.2)\n",
      "Requirement already satisfied: widgetsnbextension~=4.0.10 in c:\\python311\\lib\\site-packages (from ipywidgets<9,>=7.5.1->rich[jupyter]>=12.0.0->zenml[server]) (4.0.10)\n",
      "Requirement already satisfied: jupyterlab-widgets~=3.0.10 in c:\\python311\\lib\\site-packages (from ipywidgets<9,>=7.5.1->rich[jupyter]>=12.0.0->zenml[server]) (3.0.10)\n",
      "Requirement already satisfied: mdurl~=0.1 in c:\\python311\\lib\\site-packages (from markdown-it-py>=2.2.0->rich>=12.0.0->rich[jupyter]>=12.0.0->zenml[server]) (0.1.2)\n",
      "Requirement already satisfied: idna<4,>=2.5 in c:\\python311\\lib\\site-packages (from requests>=2.26.0->docker<6.2.0,>=6.1.0->zenml[server]) (3.4)\n",
      "Requirement already satisfied: certifi>=2017.4.17 in c:\\users\\dell-7373\\appdata\\roaming\\python\\python311\\site-packages (from requests>=2.26.0->docker<6.2.0,>=6.1.0->zenml[server]) (2023.7.22)\n",
      "Requirement already satisfied: greenlet!=0.4.17 in c:\\python311\\lib\\site-packages (from SQLAlchemy>=1.3->sqlalchemy_utils==0.38.3->zenml[server]) (2.0.2)\n",
      "Requirement already satisfied: anyio<5,>=3.4.0 in c:\\users\\dell-7373\\appdata\\roaming\\python\\python311\\site-packages (from starlette<0.28.0,>=0.27.0->fastapi<0.100,>=0.75->zenml[server]) (4.0.0)\n",
      "Requirement already satisfied: decorator>=3.4.0 in c:\\users\\dell-7373\\appdata\\roaming\\python\\python311\\site-packages (from validators<0.19,>=0.18->click-params<0.4.0,>=0.3.0->zenml[server]) (5.1.1)\n",
      "Requirement already satisfied: sniffio>=1.1 in c:\\users\\dell-7373\\appdata\\roaming\\python\\python311\\site-packages (from anyio<5,>=3.4.0->starlette<0.28.0,>=0.27.0->fastapi<0.100,>=0.75->zenml[server]) (1.3.0)\n",
      "Requirement already satisfied: pycparser in c:\\users\\dell-7373\\appdata\\roaming\\python\\python311\\site-packages (from cffi>=1.12->cryptography>=3.4.0->pyjwt[crypto]==2.7.*; extra == \"server\"->zenml[server]) (2.21)\n",
      "Requirement already satisfied: backcall in c:\\users\\dell-7373\\appdata\\roaming\\python\\python311\\site-packages (from ipython>=6.1.0->ipywidgets<9,>=7.5.1->rich[jupyter]>=12.0.0->zenml[server]) (0.2.0)\n",
      "Requirement already satisfied: jedi>=0.16 in c:\\users\\dell-7373\\appdata\\roaming\\python\\python311\\site-packages (from ipython>=6.1.0->ipywidgets<9,>=7.5.1->rich[jupyter]>=12.0.0->zenml[server]) (0.19.1)\n",
      "Requirement already satisfied: matplotlib-inline in c:\\users\\dell-7373\\appdata\\roaming\\python\\python311\\site-packages (from ipython>=6.1.0->ipywidgets<9,>=7.5.1->rich[jupyter]>=12.0.0->zenml[server]) (0.1.6)\n",
      "Requirement already satisfied: pickleshare in c:\\users\\dell-7373\\appdata\\roaming\\python\\python311\\site-packages (from ipython>=6.1.0->ipywidgets<9,>=7.5.1->rich[jupyter]>=12.0.0->zenml[server]) (0.7.5)\n",
      "Requirement already satisfied: prompt-toolkit!=3.0.37,<3.1.0,>=3.0.30 in c:\\users\\dell-7373\\appdata\\roaming\\python\\python311\\site-packages (from ipython>=6.1.0->ipywidgets<9,>=7.5.1->rich[jupyter]>=12.0.0->zenml[server]) (3.0.39)\n",
      "Requirement already satisfied: stack-data in c:\\users\\dell-7373\\appdata\\roaming\\python\\python311\\site-packages (from ipython>=6.1.0->ipywidgets<9,>=7.5.1->rich[jupyter]>=12.0.0->zenml[server]) (0.6.3)\n",
      "Requirement already satisfied: parso<0.9.0,>=0.8.3 in c:\\users\\dell-7373\\appdata\\roaming\\python\\python311\\site-packages (from jedi>=0.16->ipython>=6.1.0->ipywidgets<9,>=7.5.1->rich[jupyter]>=12.0.0->zenml[server]) (0.8.3)\n",
      "Requirement already satisfied: wcwidth in c:\\python311\\lib\\site-packages (from prompt-toolkit!=3.0.37,<3.1.0,>=3.0.30->ipython>=6.1.0->ipywidgets<9,>=7.5.1->rich[jupyter]>=12.0.0->zenml[server]) (0.2.8)\n",
      "Requirement already satisfied: executing>=1.2.0 in c:\\users\\dell-7373\\appdata\\roaming\\python\\python311\\site-packages (from stack-data->ipython>=6.1.0->ipywidgets<9,>=7.5.1->rich[jupyter]>=12.0.0->zenml[server]) (2.0.0)\n",
      "Requirement already satisfied: asttokens>=2.1.0 in c:\\users\\dell-7373\\appdata\\roaming\\python\\python311\\site-packages (from stack-data->ipython>=6.1.0->ipywidgets<9,>=7.5.1->rich[jupyter]>=12.0.0->zenml[server]) (2.4.0)\n",
      "Requirement already satisfied: pure-eval in c:\\users\\dell-7373\\appdata\\roaming\\python\\python311\\site-packages (from stack-data->ipython>=6.1.0->ipywidgets<9,>=7.5.1->rich[jupyter]>=12.0.0->zenml[server]) (0.2.2)\n",
      "Using cached azure_mgmt_resource-23.0.1-py3-none-any.whl (2.5 MB)\n",
      "Using cached cloudpickle-2.2.1-py3-none-any.whl (25 kB)\n",
      "Using cached distro-1.9.0-py3-none-any.whl (20 kB)\n",
      "Using cached docker-6.1.3-py3-none-any.whl (148 kB)\n",
      "Using cached fastapi-0.99.1-py3-none-any.whl (58 kB)\n",
      "Using cached GitPython-3.1.42-py3-none-any.whl (195 kB)\n",
      "Using cached ipinfo-5.0.1-py3-none-any.whl (24 kB)\n",
      "Using cached rich-13.7.0-py3-none-any.whl (240 kB)\n",
      "Using cached uvicorn-0.27.1-py3-none-any.whl (60 kB)\n",
      "Using cached zenml-0.55.2-py3-none-any.whl (6.2 MB)\n",
      "Using cached azure_mgmt_core-1.4.0-py3-none-any.whl (27 kB)\n",
      "Using cached gitdb-4.0.11-py3-none-any.whl (62 kB)\n",
      "Using cached httptools-0.6.1-cp311-cp311-win_amd64.whl (55 kB)\n",
      "Using cached ipywidgets-8.1.2-py3-none-any.whl (139 kB)\n",
      "Using cached starlette-0.27.0-py3-none-any.whl (66 kB)\n",
      "Using cached watchfiles-0.21.0-cp311-none-win_amd64.whl (280 kB)\n",
      "Using cached azure_core-1.30.0-py3-none-any.whl (193 kB)\n",
      "Installing collected packages: isodate, httptools, httplib2, h11, gitdb, distro, cloudpickle, click, bcrypt, watchfiles, uvicorn, starlette, sqlmodel, sqlalchemy_utils, rich, gitpython, docker, click-params, azure-core, alembic, ipinfo, fastapi, azure-mgmt-core, ipywidgets, fastapi-utils, azure-mgmt-resource, zenml\n",
      "Successfully installed alembic-1.8.1 azure-core-1.30.0 azure-mgmt-core-1.4.0 azure-mgmt-resource-23.0.1 bcrypt-4.0.1 click-8.1.3 click-params-0.3.0 cloudpickle-2.2.1 distro-1.9.0 docker-6.1.3 fastapi-0.99.1 fastapi-utils-0.2.1 gitdb-4.0.11 gitpython-3.1.42 h11-0.14.0 httplib2-0.19.1 httptools-0.6.1 ipinfo-5.0.1 ipywidgets-8.1.2 isodate-0.6.1 rich-13.7.0 sqlalchemy_utils-0.38.3 sqlmodel-0.0.8 starlette-0.27.0 uvicorn-0.27.1 watchfiles-0.21.0 zenml-0.55.2\n",
      "Note: you may need to restart the kernel to use updated packages.\n",
      "\u001b[1;35mNumExpr defaulting to 8 threads.\u001b[0m\n",
      "\u001b[1;35mInitializing the ZenML global configuration version to 0.55.2\u001b[0m\n",
      "⠋ Installing integrations...\n",
      "⠋ Installing integrations...\n",
      "⠙ Installing integrations...\n",
      "⠸ Installing integrations...\n",
      "⠼ Installing integrations...\n",
      "⠴ Installing integrations...\n",
      "⠦ Installing integrations...\n",
      "⠧ Installing integrations...\n",
      "⠇ Installing integrations...\n",
      "⠏ Installing integrations...\n",
      "⠋ Installing integrations...\n",
      "⠙ Installing integrations...\n",
      "⠸ Installing integrations...\n",
      "⠼ Installing integrations...\n",
      "⠴ Installing integrations...\n",
      "⠦ Installing integrations...\n",
      "⠧ Installing integrations...\n",
      "⠇ Installing integrations...\n",
      "⠏ Installing integrations...\n",
      "⠋ Installing integrations...\n",
      "⠙ Installing integrations...\n",
      "⠹ Installing integrations...\n",
      "⠼ Installing integrations...\n",
      "⠴ Installing integrations...\n",
      "⠦ Installing integrations...\n",
      "⠧ Installing integrations...\n",
      "⠇ Installing integrations...\n",
      "⠏ Installing integrations...\n",
      "⠋ Installing integrations...\n",
      "⠙ Installing integrations...\n",
      "⠹ Installing integrations...\n",
      "⠸ Installing integrations...\n",
      "⠼ Installing integrations...\n",
      "⠦ Installing integrations...\n",
      "⠧ Installing integrations...\n",
      "⠇ Installing integrations...\n",
      "⠏ Installing integrations...\n",
      "⠋ Installing integrations...\n",
      "⠙ Installing integrations...\n",
      "⠹ Installing integrations...\n",
      "⠸ Installing integrations...\n",
      "⠼ Installing integrations...\n",
      "⠴ Installing integrations...\n",
      "⠧ Installing integrations...\n",
      "⠇ Installing integrations...\n",
      "⠏ Installing integrations...\n",
      "⠋ Installing integrations...\n",
      "⠙ Installing integrations...\n",
      "⠹ Installing integrations...\n",
      "⠸ Installing integrations...\n",
      "⠼ Installing integrations...\n",
      "⠴ Installing integrations...\n",
      "⠦ Installing integrations...\n",
      "⠧ Installing integrations...\n",
      "⠇ Installing integrations...\n",
      "⠏ Installing integrations...\n",
      "⠋ Installing integrations...\n",
      "⠙ Installing integrations...\n",
      "⠸ Installing integrations...\n",
      "⠼ Installing integrations...\n",
      "⠴ Installing integrations...\n",
      "⠦ Installing integrations...\n",
      "⠧ Installing integrations...\n",
      "⠇ Installing integrations...\n",
      "⠏ Installing integrations...\n",
      "⠋ Installing integrations...\n",
      "⠋ Installing integrations...\n",
      "\n",
      "Requirement already satisfied: pyparsing==2.4.2 in c:\\python311\\lib\\site-packages (2.4.2)Note: you may need to restart the kernel to use updated packages.\n",
      "\n"
     ]
    }
   ],
   "source": [
    "%pip install \"zenml[server]\" --user\n",
    "!zenml integration install sklearn -y\n",
    "%pip install pyparsing==2.4.2 --user\n"
   ]
  },
  {
   "cell_type": "code",
   "execution_count": 4,
   "metadata": {},
   "outputs": [
    {
     "name": "stderr",
     "output_type": "stream",
     "text": [
      "'rm' is not recognized as an internal or external command,\n",
      "operable program or batch file.\n"
     ]
    },
    {
     "name": "stdout",
     "output_type": "stream",
     "text": [
      "\u001b[1;35mNumExpr defaulting to 8 threads.\u001b[0m\n",
      "Found existing ZenML repository at path \n",
      "'c:\\Users\\DELL-7373\\Desktop\\application\\MLops\\notebooks'.\n",
      "⠋ Initializing ZenML repository at \n",
      "c:\\Users\\DELL-7373\\Desktop\\application\\MLops\\notebooks.\n",
      "\n",
      "⠋ Initializing ZenML repository at \n",
      "c:\\Users\\DELL-7373\\Desktop\\application\\MLops\\notebooks.\n",
      "\n",
      "\n"
     ]
    }
   ],
   "source": [
    "!rm -rf .zen\n",
    "!zenml init"
   ]
  },
  {
   "cell_type": "markdown",
   "metadata": {},
   "source": [
    "### Example Experimentation ML Code\n",
    "\n",
    "Let us get started with some simple exemplary ML code. In the following, we train a Scikit-learn SVC classifier to classify images of handwritten digits. We load the data, train a model on the training set, then test it on the test set."
   ]
  },
  {
   "cell_type": "code",
   "execution_count": 5,
   "metadata": {},
   "outputs": [
    {
     "name": "stdout",
     "output_type": "stream",
     "text": [
      "Test accuracy: 0.9583333333333334\n"
     ]
    }
   ],
   "source": [
    "import numpy as np\n",
    "from sklearn.base import ClassifierMixin\n",
    "from sklearn.svm import SVC\n",
    "from sklearn.datasets import load_digits\n",
    "from sklearn.model_selection import train_test_split\n",
    "\n",
    "def train_test()-> None:\n",
    "    \"\"\"Train and test a Scikit-learn SVC classifier on the digits dataset.\"\"\"\n",
    "    digits = load_digits()\n",
    "    data = digits.images.reshape((len(digits.images), -1))\n",
    "    X_train,X_test,y_train,y_test = train_test_split(\n",
    "        data,digits.target,test_size = 0.2, shuffle=False\n",
    "    )\n",
    "    model=SVC(gamma=0.001)\n",
    "    model.fit(X_train,y_train)\n",
    "    test_acc=model.score(X_test,y_test)\n",
    "    print(f\"Test accuracy: {test_acc}\")\n",
    "\n",
    "train_test()\n",
    "    "
   ]
  },
  {
   "cell_type": "markdown",
   "metadata": {},
   "source": [
    "### Turning experiments into ML pipelines with ZenML"
   ]
  },
  {
   "cell_type": "code",
   "execution_count": 6,
   "metadata": {},
   "outputs": [
    {
     "name": "stdout",
     "output_type": "stream",
     "text": [
      "\u001b[1;35mNumExpr defaulting to 8 threads.\u001b[0m\n"
     ]
    }
   ],
   "source": [
    "from zenml import step\n",
    "from typing_extensions import Annotated\n",
    "import pandas as pd\n",
    "from typing import Tuple\n",
    "\n",
    "@step\n",
    "def importer()-> Tuple[\n",
    "    Annotated[np.ndarray, \"X_train\"],\n",
    "    Annotated[np.ndarray, \"X_test\"],\n",
    "    Annotated[np.ndarray, \"y_train\"],\n",
    "    Annotated[np.ndarray, \"y_test\"]\n",
    "]:\n",
    "    \"\"\"Load the digits dataset as numpy arrays.\"\"\"\n",
    "    digits = load_digits()\n",
    "    data = digits.images.reshape((len(digits.images),-1))\n",
    "    X_train,X_test,y_train,y_test = train_test_split(\n",
    "        data,digits.target,test_size=0.2,shuffle=False\n",
    "    )\n",
    "    return X_train,X_test,y_train,y_test\n",
    "\n",
    "@step\n",
    "def svc_trainer(\n",
    "    X_train: np.ndarray,\n",
    "    y_train: np.ndarray,\n",
    "\n",
    ") -> ClassifierMixin:\n",
    "    \"\"\"Train an sklearn SVC classifier.\"\"\"\n",
    "    model = SVC(gamma=0.001)\n",
    "    model.fit(X_train,y_train)\n",
    "    return model\n",
    "\n",
    "@step\n",
    "def evaluator(\n",
    "    X_test: np.ndarray,\n",
    "    y_test: np.ndarray,\n",
    "    model: ClassifierMixin,\n",
    ") -> float:\n",
    "    \"\"\"Calculate the test set accuracy of an sklearn model.\"\"\"\n",
    "    test_acc = model.score(X_test,y_test)\n",
    "    print(f\"Test accuracy: {test_acc}\")\n",
    "    return test_acc"
   ]
  },
  {
   "cell_type": "markdown",
   "metadata": {},
   "source": [
    "Similarly, we can use ZenML's `@pipeline` decorator to connect all our steps into an ML pipeline.\n",
    "\n",
    "Note that the pipelone defination does not depend on the concrete step functions we defined above; it merely establishes a recipe for how data moves through the steps. This means we can replace steps as we wish, e.g. to run the same pipeline with different models to compare their performances."
   ]
  },
  {
   "cell_type": "code",
   "execution_count": 7,
   "metadata": {},
   "outputs": [],
   "source": [
    "from zenml import pipeline\n",
    "\n",
    "@pipeline\n",
    "def digits_pipeline():\n",
    "    \"\"\"Link all the steps together in a pipeline\"\"\"\n",
    "    X_train,X_test,y_train,y_test = importer()\n",
    "    model = svc_trainer(X_train,y_train)\n",
    "    evaluator(X_test,y_test,model)"
   ]
  },
  {
   "cell_type": "markdown",
   "metadata": {},
   "source": [
    "### Running ZenML Pipeline"
   ]
  },
  {
   "cell_type": "code",
   "execution_count": 8,
   "metadata": {},
   "outputs": [
    {
     "name": "stdout",
     "output_type": "stream",
     "text": [
      "\u001b[1;35mInitiating a new run for the pipeline: \u001b[0m\u001b[1;36mdigits_pipeline\u001b[1;35m.\u001b[0m\n"
     ]
    },
    {
     "name": "stdout",
     "output_type": "stream",
     "text": [
      "\u001b[1;35mCreating database tables\u001b[0m\n",
      "\u001b[1;35mCreating default workspace 'default' ...\u001b[0m\n",
      "\u001b[1;35mCreating default stack in workspace default...\u001b[0m\n",
      "\u001b[1;35mCreating default user 'default' ...\u001b[0m\n",
      "\u001b[1;35mSetting the global active workspace to 'default'.\u001b[0m\n",
      "\u001b[33mSetting the global active stack to default.\u001b[0m\n",
      "\u001b[33mThe current repo active workspace is no longer available. Resetting the active workspace to 'default'.\u001b[0m\n",
      "\u001b[33mThe current repo active stack is no longer available. Resetting the active stack to default.\u001b[0m\n",
      "\u001b[1;35mReloading configuration file C:\\Users\\DELL-7373\\Desktop\\application\\MLops\\notebooks\\.zen\\config.yaml\u001b[0m\n",
      "\u001b[1;35mRegistered new version: \u001b[0m\u001b[1;36m(version 1)\u001b[1;35m.\u001b[0m\n",
      "\u001b[1;35mExecuting a new run.\u001b[0m\n",
      "\u001b[1;35mUsing user: \u001b[0m\u001b[1;36mdefault\u001b[1;35m\u001b[0m\n",
      "\u001b[1;35mUsing stack: \u001b[0m\u001b[1;36mdefault\u001b[1;35m\u001b[0m\n",
      "\u001b[1;35m  artifact_store: \u001b[0m\u001b[1;36mdefault\u001b[1;35m\u001b[0m\n",
      "\u001b[1;35m  orchestrator: \u001b[0m\u001b[1;36mdefault\u001b[1;35m\u001b[0m\n",
      "\u001b[1;35mStep \u001b[0m\u001b[1;36mimporter\u001b[1;35m has started.\u001b[0m\n",
      "\u001b[1;35mStep \u001b[0m\u001b[1;36mimporter\u001b[1;35m has finished in \u001b[0m\u001b[1;36m16.920s\u001b[1;35m.\u001b[0m\n",
      "\u001b[1;35mStep \u001b[0m\u001b[1;36msvc_trainer\u001b[1;35m has started.\u001b[0m\n",
      "\u001b[1;35mStep \u001b[0m\u001b[1;36msvc_trainer\u001b[1;35m has finished in \u001b[0m\u001b[1;36m1.562s\u001b[1;35m.\u001b[0m\n",
      "\u001b[1;35mStep \u001b[0m\u001b[1;36mevaluator\u001b[1;35m has started.\u001b[0m\n",
      "Test accuracy: 0.9583333333333334\n",
      "\u001b[1;35mStep \u001b[0m\u001b[1;36mevaluator\u001b[1;35m has finished in \u001b[0m\u001b[1;36m2.905s\u001b[1;35m.\u001b[0m\n",
      "\u001b[1;35mPipeline run has finished in \u001b[0m\u001b[1;36m22.527s\u001b[1;35m.\u001b[0m\n",
      "\u001b[1;35mYou can visualize your pipeline runs in the \u001b[0m\u001b[1;36mZenML Dashboard\u001b[1;35m. In order to try it locally, please run \u001b[0m\u001b[1;36mzenml up\u001b[1;35m.\u001b[0m\n"
     ]
    }
   ],
   "source": [
    "digits_svc_pipeline = digits_pipeline()"
   ]
  },
  {
   "cell_type": "code",
   "execution_count": 10,
   "metadata": {},
   "outputs": [
    {
     "name": "stdout",
     "output_type": "stream",
     "text": [
      "^C\n"
     ]
    }
   ],
   "source": [
    "from zenml.environment import Environment\n",
    "\n",
    "def start_zenml_dashboard(port=8237):\n",
    "    if Environment.in_google_colab():\n",
    "        from pyngrok import ngrok\n",
    "\n",
    "        public_url = ngrok.connect(port)\n",
    "        print(f\"ZenML dashboard is available at {public_url}\")\n",
    "        !zenml up --blocking --port {port}\n",
    "\n",
    "    else:\n",
    "        !zenml up --blocking --port {port}\n",
    "\n",
    "start_zenml_dashboard()"
   ]
  },
  {
   "cell_type": "code",
   "execution_count": null,
   "metadata": {},
   "outputs": [],
   "source": []
  }
 ],
 "metadata": {
  "kernelspec": {
   "display_name": "Python 3",
   "language": "python",
   "name": "python3"
  },
  "language_info": {
   "codemirror_mode": {
    "name": "ipython",
    "version": 3
   },
   "file_extension": ".py",
   "mimetype": "text/x-python",
   "name": "python",
   "nbconvert_exporter": "python",
   "pygments_lexer": "ipython3",
   "version": "3.11.3"
  }
 },
 "nbformat": 4,
 "nbformat_minor": 2
}
